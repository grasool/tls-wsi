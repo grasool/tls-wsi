{
 "cells": [
  {
   "cell_type": "code",
   "execution_count": null,
   "metadata": {},
   "outputs": [],
   "source": [
    "# I want to load tif files from a folder one by one.\n",
    "# Each files is a annotation\n",
    "# I want to see if there is any annotaiton there, or just a blank image\n",
    "# A list will be created to store the file names of the blank images\n",
    "# The blank images and annotated images will be saved in two different folders\n",
    "# The tissue parchse corresponding to the blank images and non-blank images will be saved in two different folders\n",
    "# The link between annotaiton image and the tissue path image is their file name.\n"
   ]
  },
  {
   "cell_type": "code",
   "execution_count": null,
   "metadata": {},
   "outputs": [],
   "source": [
    "import os\n",
    "import numpy as np\n",
    "from PIL import Image\n",
    "from shutil import copyfile\n",
    "from tqdm import tqdm\n",
    "\n",
    "# Define the directories\n",
    "annotations_dir = r'D:\\Data\\tls-data\\patched-data\\gt'\n",
    "tissue_images_dir = r'D:\\Data\\tls-data\\patched-data\\patches'\n",
    "blank_annotations_dir = r'D:\\Data\\tls-data\\patched-data\\separated\\blank_annotations'\n",
    "blank_tissue_images_dir = r'D:\\Data\\tls-data\\patched-data\\separated\\blank_tissue_images'\n",
    "annotated_annotations_dir = r'D:\\Data\\tls-data\\patched-data\\separated\\ann_annotations'\n",
    "annotated_tissue_images_dir = r'D:\\Data\\tls-data\\patched-data\\separated\\ann_tissue_images'\n",
    "\n",
    "# Create output directories if they don't exist\n",
    "os.makedirs(blank_annotations_dir, exist_ok=True)\n",
    "os.makedirs(blank_tissue_images_dir, exist_ok=True)\n",
    "os.makedirs(annotated_annotations_dir, exist_ok=True)\n",
    "os.makedirs(annotated_tissue_images_dir, exist_ok=True)\n",
    "\n",
    "# Create lists to store the file names\n",
    "blank_annotations = []\n",
    "annotated_annotations = []\n",
    "# Get the list of annotation files\n",
    "annotation_files = [f for f in os.listdir(annotations_dir) if f.endswith('.tif')]\n",
    "\n",
    "# Load annotation tif files one by one with progress tracking\n",
    "for filename in tqdm(annotation_files, desc=\"Processing files\"):\n",
    "    try:\n",
    "        # Load the annotation image\n",
    "        annotation_path = os.path.join(annotations_dir, filename)\n",
    "        annotation_img = Image.open(annotation_path)\n",
    "        # Convert the annotation image to a numpy array\n",
    "        annotation_array = np.array(annotation_img)\n",
    "\n",
    "        # Check if the annotation image is blank (i.e., all zeros)\n",
    "        if np.all(annotation_array == 0):\n",
    "            # Save the annotation image in the blank annotations directory\n",
    "            annotation_img.save(os.path.join(blank_annotations_dir, filename))\n",
    "            # Add the filename to the blank annotations list\n",
    "            blank_annotations.append(filename)\n",
    "            # Copy the corresponding tissue image to the blank tissue images directory\n",
    "            tissue_filename = filename  # assuming the filenames are identical\n",
    "            tissue_path = os.path.join(tissue_images_dir, tissue_filename)\n",
    "            if os.path.exists(tissue_path):\n",
    "                copyfile(tissue_path, os.path.join(blank_tissue_images_dir, tissue_filename))\n",
    "        else:\n",
    "            # Save the annotation image in the annotated annotations directory\n",
    "            annotation_img.save(os.path.join(annotated_annotations_dir, filename))\n",
    "            # Add the filename to the annotated annotations list\n",
    "            annotated_annotations.append(filename)\n",
    "            # Copy the corresponding tissue image to the annotated tissue images directory\n",
    "            tissue_filename = filename  # assuming the filenames are identical\n",
    "            tissue_path = os.path.join(tissue_images_dir, tissue_filename)\n",
    "            if os.path.exists(tissue_path):\n",
    "                copyfile(tissue_path, os.path.join(annotated_tissue_images_dir, tissue_filename))\n",
    "    except Exception as e:\n",
    "        print(f\"Error processing file {filename}: {e}\")\n",
    "\n",
    "# Print the file names of the blank annotations\n",
    "print('Blank annotations:', blank_annotations)\n"
   ]
  }
 ],
 "metadata": {
  "kernelspec": {
   "display_name": "tls-wsi-p10",
   "language": "python",
   "name": "python3"
  },
  "language_info": {
   "codemirror_mode": {
    "name": "ipython",
    "version": 3
   },
   "file_extension": ".py",
   "mimetype": "text/x-python",
   "name": "python",
   "nbconvert_exporter": "python",
   "pygments_lexer": "ipython3",
   "version": "3.10.14"
  }
 },
 "nbformat": 4,
 "nbformat_minor": 2
}
